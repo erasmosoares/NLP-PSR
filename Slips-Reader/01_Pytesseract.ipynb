{
 "cells": [
  {
   "cell_type": "code",
   "execution_count": 20,
   "id": "db438312",
   "metadata": {
    "scrolled": false
   },
   "outputs": [],
   "source": [
    "import pandas as pd\n",
    "import cv2\n",
    "import pytesseract"
   ]
  },
  {
   "cell_type": "code",
   "execution_count": 21,
   "id": "9697ad43",
   "metadata": {},
   "outputs": [],
   "source": [
    "# Loading using cv2\n",
    "\n",
    "img_cv = cv2.imread('./stubs/Slip.png') "
   ]
  },
  {
   "cell_type": "code",
   "execution_count": 22,
   "id": "35fd55d1",
   "metadata": {},
   "outputs": [],
   "source": [
    "### Extract Text from Image from cv2\n",
    "\n",
    "text_cv = pytesseract.image_to_string(img_cv)"
   ]
  },
  {
   "cell_type": "code",
   "execution_count": null,
   "id": "c38a26e1",
   "metadata": {},
   "outputs": [],
   "source": [
    "print(text_cv)"
   ]
  },
  {
   "cell_type": "code",
   "execution_count": 24,
   "id": "c4491331",
   "metadata": {},
   "outputs": [],
   "source": [
    "# Get informations tesseract hierarchie\n",
    "data = pytesseract.image_to_data(img_cv)"
   ]
  },
  {
   "cell_type": "code",
   "execution_count": null,
   "id": "33f8aaf3",
   "metadata": {},
   "outputs": [],
   "source": [
    "print(data)"
   ]
  },
  {
   "cell_type": "code",
   "execution_count": null,
   "id": "db3c225a",
   "metadata": {},
   "outputs": [],
   "source": [
    "data"
   ]
  },
  {
   "cell_type": "code",
   "execution_count": null,
   "id": "57d88b9e",
   "metadata": {},
   "outputs": [],
   "source": [
    "# Split data into new lines\n",
    "data.split('\\n')"
   ]
  },
  {
   "cell_type": "code",
   "execution_count": 28,
   "id": "e52d31d2",
   "metadata": {},
   "outputs": [],
   "source": [
    "# Creating a DataFrame\n",
    "dataList = list(map(lambda x: x.split('\\t'),data.split('\\n')))\n",
    "df = pd.DataFrame(dataList[1:],columns=dataList[0])"
   ]
  },
  {
   "cell_type": "code",
   "execution_count": null,
   "id": "c4fdd37c",
   "metadata": {},
   "outputs": [],
   "source": [
    "dataList"
   ]
  },
  {
   "cell_type": "code",
   "execution_count": null,
   "id": "ebb02a15",
   "metadata": {},
   "outputs": [],
   "source": [
    "df"
   ]
  },
  {
   "cell_type": "code",
   "execution_count": 31,
   "id": "bf3cc22c",
   "metadata": {},
   "outputs": [],
   "source": [
    "# Clean Text in Dataframe\n",
    "df.dropna(inplace=True) # drop the missing in rows\n",
    "col_int = ['level','page_num','block_num','par_num','line_num','word_num','left','top','width','height']\n",
    "df[col_int] = df[col_int].astype(int)"
   ]
  },
  {
   "cell_type": "code",
   "execution_count": null,
   "id": "8ffa552e",
   "metadata": {},
   "outputs": [],
   "source": [
    "df.dtypes"
   ]
  },
  {
   "cell_type": "code",
   "execution_count": 33,
   "id": "b8f4ab67",
   "metadata": {},
   "outputs": [],
   "source": [
    "# Draw Bounding Box around each word\n",
    "image = img_cv.copy()\n",
    "level = 'word' #page,block,line, word\n",
    "\n",
    "# l -> Level, x -> xPosition, y -> Top\n",
    "for l,x,y,w,h,txt in df[['level','left','top','width','height','text']].values:\n",
    "    #print(l,x,y,w,h)\n",
    "    if level == 'page':\n",
    "        if l == 1:\n",
    "            # image / position 1, position 2, color, thickines\n",
    "            cv2.rectangle(image,(x,y),(x+w,y+h),(0,0,0),2)\n",
    "        else:\n",
    "            continue\n",
    "            \n",
    "    elif level =='block':\n",
    "        if l == 2:\n",
    "            cv2.rectangle(image,(x,y),(x+w,y+h),(255,0,0),2)\n",
    "        else:\n",
    "            continue\n",
    "    \n",
    "    elif level == 'para':\n",
    "        if l == 3:\n",
    "            cv2.rectangle(image,(x,y),(x+w,y+h),(0,255,0),2)\n",
    "        else:\n",
    "            continue\n",
    "            \n",
    "    elif level == 'line':\n",
    "        if l == 4:\n",
    "            cv2.rectangle(image,(x,y),(x+w,y+h),(0,0,255),2)\n",
    "        else:\n",
    "            continue\n",
    "            \n",
    "    elif level == 'word': \n",
    "        if l == 5:\n",
    "            cv2.rectangle(image,(x,y),(x+w,y+h),(0,255,0),2)\n",
    "            cv2.putText(image,txt,(x,y),cv2.FONT_HERSHEY_PLAIN,1,(255,0,0),2)\n",
    "        else:\n",
    "            continue\n",
    "\n",
    "cv2.imshow(\"bounding box\",image)\n",
    "cv2.waitKey()\n",
    "cv2.destroyAllWindows()"
   ]
  },
  {
   "cell_type": "code",
   "execution_count": null,
   "id": "667d1d59",
   "metadata": {},
   "outputs": [],
   "source": []
  }
 ],
 "metadata": {
  "kernelspec": {
   "display_name": "Python 3 (ipykernel)",
   "language": "python",
   "name": "python3"
  },
  "language_info": {
   "codemirror_mode": {
    "name": "ipython",
    "version": 3
   },
   "file_extension": ".py",
   "mimetype": "text/x-python",
   "name": "python",
   "nbconvert_exporter": "python",
   "pygments_lexer": "ipython3",
   "version": "3.11.4"
  }
 },
 "nbformat": 4,
 "nbformat_minor": 5
}
