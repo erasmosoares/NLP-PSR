{
 "cells": [
  {
   "cell_type": "code",
   "execution_count": 4,
   "id": "b1794f10",
   "metadata": {},
   "outputs": [],
   "source": [
    "import numpy as np\n",
    "import pandas as pd\n",
    "import cv2\n",
    "import pytesseract\n",
    "from glob import glob\n",
    "import spacy\n",
    "import re\n",
    "import string"
   ]
  },
  {
   "cell_type": "code",
   "execution_count": 5,
   "id": "36b2f4a3",
   "metadata": {},
   "outputs": [],
   "source": [
    "def cleanText(txt):\n",
    "    whitespace = string.whitespace\n",
    "    punctuation = \"!#$%&\\'()*+:;<=>?[\\\\]^`{|}~\"\n",
    "    tableWhitespace = str.maketrans('','',whitespace)\n",
    "    tablePunctuation = str.maketrans('','',punctuation)\n",
    "    text = str(txt)\n",
    "    text = text.lower()\n",
    "    removewhitespace = text.translate(tableWhitespace)\n",
    "    removepunctuation = removewhitespace.translate(tablePunctuation)\n",
    "    \n",
    "    return str(removepunctuation)"
   ]
  },
  {
   "cell_type": "code",
   "execution_count": 6,
   "id": "68c5ec46",
   "metadata": {},
   "outputs": [],
   "source": [
    "import warnings\n",
    "warnings.filterwarnings('ignore')"
   ]
  },
  {
   "cell_type": "code",
   "execution_count": 7,
   "id": "c5023698",
   "metadata": {},
   "outputs": [],
   "source": [
    "### Load NER model\n",
    "model_ner = spacy.load('./output/model-best/')"
   ]
  },
  {
   "cell_type": "code",
   "execution_count": null,
   "id": "da671bfe",
   "metadata": {},
   "outputs": [],
   "source": [
    "# Load Image\n",
    "image = cv2.imread('./stubs/Slip.png')\n",
    "\n",
    "# extract data using Pytesseract \n",
    "tessData = pytesseract.image_to_data(image)\n",
    "\n",
    "# convert into dataframe\n",
    "tessList = list(map(lambda x:x.split('\\t'), tessData.split('\\n')))\n",
    "df = pd.DataFrame(tessList[1:],columns=tessList[0])\n",
    "df.dropna(inplace=True) # drop missing values\n",
    "df['text'] = df['text'].apply(cleanText)\n",
    "\n",
    "# convet data into content\n",
    "df_clean = df.query('text != \"\" ')\n",
    "content = \" \".join([w for w in df_clean['text']])\n",
    "print(content)\n",
    "\n",
    "# get prediction from NER model\n",
    "doc = model_ner(content)"
   ]
  },
  {
   "cell_type": "code",
   "execution_count": 10,
   "id": "8b449d90",
   "metadata": {},
   "outputs": [],
   "source": [
    "from spacy import displacy"
   ]
  },
  {
   "cell_type": "code",
   "execution_count": null,
   "id": "021547c4",
   "metadata": {},
   "outputs": [],
   "source": [
    "displacy.serve(doc,style='ent',port=5001)"
   ]
  },
  {
   "cell_type": "code",
   "execution_count": null,
   "id": "ba6137f2",
   "metadata": {},
   "outputs": [],
   "source": [
    "displacy.render(doc,style='ent')"
   ]
  },
  {
   "cell_type": "markdown",
   "id": "35fbad3b",
   "metadata": {},
   "source": [
    "### Tagging"
   ]
  },
  {
   "cell_type": "code",
   "execution_count": null,
   "id": "a67ec2b7",
   "metadata": {},
   "outputs": [],
   "source": [
    "docjson = doc.to_json()\n",
    "docjson.keys()"
   ]
  },
  {
   "cell_type": "code",
   "execution_count": 14,
   "id": "4fc480fc",
   "metadata": {},
   "outputs": [],
   "source": [
    "doc_text = docjson['text']"
   ]
  },
  {
   "cell_type": "code",
   "execution_count": null,
   "id": "d091449b",
   "metadata": {},
   "outputs": [],
   "source": [
    "datafram_tokens = pd.DataFrame(docjson['tokens'])\n",
    "datafram_tokens['token'] = datafram_tokens[['start','end']].apply(\n",
    "    lambda x:doc_text[x[0]:x[1]] , axis = 1)\n",
    "datafram_tokens.head(10)"
   ]
  },
  {
   "cell_type": "code",
   "execution_count": 16,
   "id": "259f07fa",
   "metadata": {},
   "outputs": [],
   "source": [
    "right_table = pd.DataFrame(docjson['ents'])[['start','label']]\n",
    "datafram_tokens = pd.merge(datafram_tokens,right_table,how='left',on='start')"
   ]
  },
  {
   "cell_type": "code",
   "execution_count": null,
   "id": "30b5f5a2",
   "metadata": {},
   "outputs": [],
   "source": [
    "datafram_tokens.fillna('O',inplace=True)\n",
    "datafram_tokens.head(10)"
   ]
  },
  {
   "cell_type": "code",
   "execution_count": 18,
   "id": "625f1f46",
   "metadata": {},
   "outputs": [],
   "source": [
    "# join lable to df_clean dataframe\n",
    "df_clean['end'] = df_clean['text'].apply(lambda x: len(x)+1).cumsum() - 1 \n",
    "df_clean['start'] = df_clean[['text','end']].apply(lambda x: x[1] - len(x[0]),axis=1)"
   ]
  },
  {
   "cell_type": "code",
   "execution_count": 19,
   "id": "50e3204e",
   "metadata": {},
   "outputs": [],
   "source": [
    "# inner join with start \n",
    "dataframe_info = pd.merge(df_clean,datafram_tokens[['start','token','label']],how='inner',on='start')"
   ]
  },
  {
   "cell_type": "code",
   "execution_count": null,
   "id": "71e8663d",
   "metadata": {},
   "outputs": [],
   "source": [
    "dataframe_info.tail(10)"
   ]
  },
  {
   "cell_type": "markdown",
   "id": "d281f1a1",
   "metadata": {},
   "source": [
    "### Bounding Box"
   ]
  },
  {
   "cell_type": "code",
   "execution_count": 21,
   "id": "76db2791",
   "metadata": {},
   "outputs": [],
   "source": [
    "bb_df = dataframe_info.query(\"label != 'O' \")\n",
    "img = image.copy()\n",
    "\n",
    "for x,y,w,h,label in bb_df[['left','top','width','height','label']].values:\n",
    "    x = int(x)\n",
    "    y = int(y)\n",
    "    w = int(w)\n",
    "    h = int(h)\n",
    "    \n",
    "    cv2.rectangle(img,(x,y),(x+w,y+h),(0,255,0),2)\n",
    "    cv2.putText(img,str(label),(x,y),cv2.FONT_HERSHEY_PLAIN,1,(255,0,255),2)\n",
    "    \n",
    "    \n",
    "cv2.imshow('Predictions',img)\n",
    "cv2.waitKey(0)\n",
    "cv2.destroyAllWindows()"
   ]
  },
  {
   "cell_type": "code",
   "execution_count": null,
   "id": "feaf0735",
   "metadata": {},
   "outputs": [],
   "source": [
    "bb_df['label'] = bb_df['label'].apply(lambda x: x[2:])\n",
    "bb_df.head()"
   ]
  },
  {
   "cell_type": "code",
   "execution_count": 23,
   "id": "4a73a4ea",
   "metadata": {},
   "outputs": [],
   "source": [
    "# group the label\n",
    "class groupgen():\n",
    "    def __init__(self):\n",
    "        self.id = 0\n",
    "        self.text = ''\n",
    "        \n",
    "    def getgroup(self,text):\n",
    "        if self.text == text:\n",
    "            return self.id\n",
    "        else:\n",
    "            self.id +=1\n",
    "            self.text = text\n",
    "            return self.id\n",
    "        \n",
    "grp_gen = groupgen()"
   ]
  },
  {
   "cell_type": "code",
   "execution_count": 24,
   "id": "ca5ecba3",
   "metadata": {},
   "outputs": [],
   "source": [
    "bb_df['group'] = bb_df['label'].apply(grp_gen.getgroup)"
   ]
  },
  {
   "cell_type": "code",
   "execution_count": 25,
   "id": "0208a152",
   "metadata": {},
   "outputs": [],
   "source": [
    "# right and bottom of bounding box\n",
    "bb_df[['left','top','width','height']] = bb_df[['left','top','width','height']].astype(int)\n",
    "bb_df['right'] = bb_df['left'] + bb_df['width']\n",
    "bb_df['bottom'] = bb_df['top'] + bb_df['height']"
   ]
  },
  {
   "cell_type": "code",
   "execution_count": 26,
   "id": "d52616ca",
   "metadata": {},
   "outputs": [],
   "source": [
    "# tagging: groupby group\n",
    "col_group = ['left','top','right','bottom','label','token','group']\n",
    "group_tag_img = bb_df[col_group].groupby(by='group')"
   ]
  },
  {
   "cell_type": "code",
   "execution_count": 27,
   "id": "8c3f802a",
   "metadata": {},
   "outputs": [],
   "source": [
    "img_tagging = group_tag_img.agg({\n",
    "        \n",
    "    'left':min,\n",
    "    'right':max,\n",
    "    'top':min,\n",
    "    'bottom':max,\n",
    "    'label':np.unique,\n",
    "    'token':lambda x: \" \".join(x)\n",
    "    \n",
    "})"
   ]
  },
  {
   "cell_type": "code",
   "execution_count": null,
   "id": "932e213d",
   "metadata": {},
   "outputs": [],
   "source": [
    "img_tagging"
   ]
  },
  {
   "cell_type": "code",
   "execution_count": null,
   "id": "67f08387",
   "metadata": {},
   "outputs": [],
   "source": [
    "img_bb = image.copy()\n",
    "for l,r,t,b,label,token in img_tagging.values:\n",
    "    cv2.rectangle(img_bb,(l,t),(r,b),(0,255,0),2)\n",
    "    cv2.putText(img_bb,str(label),(l,t),cv2.FONT_HERSHEY_PLAIN,1,(255,0,255),2)\n",
    "    \n",
    "    \n",
    "cv2.imshow('Bounding Box Slips',img_bb)\n",
    "cv2.waitKey(0)\n",
    "cv2.destroyAllWindows()"
   ]
  },
  {
   "cell_type": "code",
   "execution_count": 31,
   "id": "e0294485",
   "metadata": {},
   "outputs": [],
   "source": [
    "def parser(text,label):  \n",
    "    \n",
    "    if label in ('NAME'):\n",
    "        text = text.lower()\n",
    "        text = re.sub(r'[^a-z ]','',text)\n",
    "        text = text.title()\n",
    "        \n",
    "    elif label in ('ORG','ROLE'):\n",
    "        text = text.lower()\n",
    "        text = re.sub(r'[^a-z0-9 ]','',text)\n",
    "        text = text.title()\n",
    "        \n",
    "    elif label in ('DATE'):\n",
    "        text = text.lower()\n",
    "        text = re.sub(r'[^0-9/]','',text)\n",
    "        text = text.title()        \n",
    "        \n",
    "    elif label in ('BASE','HOURS','QTD','GAINS','DEDUCTIONS','NETTE'):\n",
    "        text = text.lower()\n",
    "        text = re.sub(r'[^0-9.,]','',text)\n",
    "        text = text.title()\n",
    "        \n",
    "    return text"
   ]
  },
  {
   "cell_type": "code",
   "execution_count": 32,
   "id": "a6eb7672",
   "metadata": {},
   "outputs": [],
   "source": [
    "info_array = dataframe_info[['token','label']].values\n",
    "entities = dict(NAME=[],ORG=[],DATE=[],ROLE=[],BASE=[],HOURS=[],QTD=[],GAINS=[],DEDUCTIONS=[],NETTE=[])\n",
    "previous = 'O'\n",
    "\n",
    "for token, label in info_array:\n",
    "    bio_tag = label[0]\n",
    "    label_tag = label[2:]\n",
    "\n",
    "    # step -1 parse the token\n",
    "    text = parser(token,label_tag)\n",
    "\n",
    "    if bio_tag in ('B','I'):\n",
    "\n",
    "        if previous != label_tag:\n",
    "            entities[label_tag].append(text)\n",
    "\n",
    "        else:\n",
    "            if bio_tag == \"B\":\n",
    "                entities[label_tag].append(text)\n",
    "\n",
    "            else:\n",
    "                if label_tag in (\"NAME\",'ORG','ROLE'):\n",
    "                    entities[label_tag][-1] = entities[label_tag][-1] + \" \" + text\n",
    "\n",
    "                else:\n",
    "                    entities[label_tag][-1] = entities[label_tag][-1] + text\n",
    "\n",
    "\n",
    "\n",
    "    previous = label_tag"
   ]
  },
  {
   "cell_type": "code",
   "execution_count": null,
   "id": "9ec47eba",
   "metadata": {},
   "outputs": [],
   "source": [
    "entities"
   ]
  }
 ],
 "metadata": {
  "kernelspec": {
   "display_name": "Python 3 (ipykernel)",
   "language": "python",
   "name": "python3"
  },
  "language_info": {
   "codemirror_mode": {
    "name": "ipython",
    "version": 3
   },
   "file_extension": ".py",
   "mimetype": "text/x-python",
   "name": "python",
   "nbconvert_exporter": "python",
   "pygments_lexer": "ipython3",
   "version": "3.11.4"
  }
 },
 "nbformat": 4,
 "nbformat_minor": 5
}
